{
 "cells": [
  {
   "cell_type": "code",
   "execution_count": 1,
   "metadata": {},
   "outputs": [
    {
     "name": "stdout",
     "output_type": "stream",
     "text": [
      "External Library import Successful\n"
     ]
    }
   ],
   "source": [
    "import matplotlib.pyplot as plt\n",
    "import numpy\n",
    "from numpy import genfromtxt\n",
    "import csv\n",
    "import pandas as pd\n",
    "from operator import itemgetter\n",
    "from datetime import*\n",
    "print('External Library import Successful')\n",
    "#######################################################################\n"
   ]
  },
  {
   "cell_type": "code",
   "execution_count": 2,
   "metadata": {},
   "outputs": [
    {
     "name": "stdout",
     "output_type": "stream",
     "text": [
      "Custom Functions Loaded into the Program Successfully\n"
     ]
    }
   ],
   "source": [
    "def nearest(items, pivot):\n",
    "    return min(items, key=lambda x: abs(x - pivot))\n",
    "#######################################################################\n",
    "def add_one_month(t):\n",
    "    \"\"\"Return a `datetime.date` or `datetime.datetime` (as given) that is\n",
    "    one month earlier.\n",
    "\n",
    "    Note that the resultant day of the month might change if the following\n",
    "    month has fewer days:\n",
    "\n",
    "        >>> add_one_month(datetime.date(2010, 1, 31))\n",
    "        datetime.date(2010, 2, 28)\n",
    "    \"\"\"\n",
    "    import datetime\n",
    "    one_day = datetime.timedelta(days=1)\n",
    "    one_month_later = t + one_day\n",
    "    while one_month_later.month == t.month:  # advance to start of next month\n",
    "        one_month_later += one_day\n",
    "    target_month = one_month_later.month\n",
    "    while one_month_later.day < t.day:  # advance to appropriate day\n",
    "        one_month_later += one_day\n",
    "        if one_month_later.month != target_month:  # gone too far\n",
    "            one_month_later -= one_day\n",
    "            break\n",
    "    return one_month_later\n",
    "#######################################################################\n",
    "def subtract_one_month(t):\n",
    "    \"\"\"Return a `datetime.date` or `datetime.datetime` (as given) that is\n",
    "    one month later.\n",
    "\n",
    "    Note that the resultant day of the month might change if the following\n",
    "    month has fewer days:\n",
    "\n",
    "        >>> subtract_one_month(datetime.date(2010, 3, 31))\n",
    "        datetime.date(2010, 2, 28)\n",
    "    \"\"\"\n",
    "    import datetime\n",
    "    one_day = datetime.timedelta(days=1)\n",
    "    one_month_earlier = t - one_day\n",
    "    while one_month_earlier.month == t.month or one_month_earlier.day > t.day:\n",
    "        one_month_earlier -= one_day\n",
    "    return one_month_earlier\n",
    "#######################################################################\n",
    "print('Custom Functions Loaded into the Program Successfully')\n",
    "#######################################################################\n",
    "\n"
   ]
  },
  {
   "cell_type": "code",
   "execution_count": 3,
   "metadata": {},
   "outputs": [
    {
     "name": "stdout",
     "output_type": "stream",
     "text": [
      "External Data loaded successfully in the Program\n"
     ]
    }
   ],
   "source": [
    "values=[]\n",
    "dates=[]\n",
    "combine=[]\n",
    "with open('hyatt.csv', 'r') as csvFile:\n",
    "    reader = csv.reader(csvFile)\n",
    "    for row in reader:\n",
    "        values.append(row[1])\n",
    "        dates.append(row[1])\n",
    "        combine.append(row)\n",
    "csvFile.close()\n",
    "#print(values)\n",
    "#print(dates)\n",
    "#print(combine)\n",
    "print('External Data loaded successfully in the Program')\n"
   ]
  },
  {
   "cell_type": "code",
   "execution_count": 4,
   "metadata": {},
   "outputs": [
    {
     "name": "stdout",
     "output_type": "stream",
     "text": [
      "The Number of Values are:  43184\n",
      "The Number of Dates are: 43184\n"
     ]
    }
   ],
   "source": [
    "print('The Number of Values are: ',len(values))\n",
    "print('The Number of Dates are:',len(dates))\n"
   ]
  },
  {
   "cell_type": "code",
   "execution_count": 5,
   "metadata": {},
   "outputs": [
    {
     "name": "stdout",
     "output_type": "stream",
     "text": [
      "<class 'datetime.datetime'>\n",
      "2018-05-31 23:59:00\n"
     ]
    }
   ],
   "source": [
    "combine = sorted(combine, key=itemgetter(0))\n",
    "\"\"\"for i in combine:\n",
    "    print(i)\"\"\"\n",
    "for i in combine:\n",
    "    m2=i[0]\n",
    "    m2=datetime.strptime(m2,'%d/%m/%y %I:%M %p')\n",
    "    i[0]=m2\n",
    "combine = sorted(combine, key=itemgetter(0))\n",
    "\"\"\"for i in combine:\n",
    "    print(i)\"\"\"\n",
    "ref_min=combine[0][0].date()\n",
    "min_time=datetime.strptime('0000','%H%M').time()\n",
    "ref_min=datetime.combine(ref_min, min_time)\n",
    "print(type(ref_min))\n",
    "ref_max=combine[-1][0].date()\n",
    "max_time=datetime.strptime('2359','%H%M').time()\n",
    "ref_max=datetime.combine(ref_max, max_time)\n",
    "print(ref_max)\n"
   ]
  },
  {
   "cell_type": "code",
   "execution_count": 6,
   "metadata": {},
   "outputs": [
    {
     "name": "stdout",
     "output_type": "stream",
     "text": [
      "The corresponding Lowest time related to this reading is:  2018-01-01 00:05:00\n",
      "0\n",
      "2018-02-01 00:00:00\n",
      "The corresponding Lowest time related to this reading is:  2018-01-31 23:58:00\n",
      "8850\n",
      "2018-03-01 00:00:00\n",
      "The corresponding Lowest time related to this reading is:  2018-02-28 23:58:00\n",
      "16741\n",
      "2018-04-01 00:00:00\n",
      "The corresponding Lowest time related to this reading is:  2018-04-01 00:02:00\n",
      "25669\n",
      "2018-05-01 00:00:00\n",
      "The corresponding Lowest time related to this reading is:  2018-05-01 00:02:00\n",
      "34304\n",
      "2018-06-01 00:00:00\n",
      "The corresponding Lowest time related to this reading is:  2018-05-31 23:31:00\n",
      "43183\n",
      "2018-07-01 00:00:00\n"
     ]
    }
   ],
   "source": [
    "ref_max = add_one_month(ref_max)\n",
    "dates=[]\n",
    "for i in combine:\n",
    "    dates.append(i[0])\n",
    "i=ref_min\n",
    "indices=[]\n",
    "while i<ref_max:\n",
    "    k=nearest(dates,i)\n",
    "    print('The corresponding Lowest time related to this reading is: ',k)\n",
    "    index=dates.index(k)\n",
    "    print(index)\n",
    "    indices.append(index)\n",
    "    i = add_one_month(i)\n",
    "    print(i)\n"
   ]
  },
  {
   "cell_type": "code",
   "execution_count": 7,
   "metadata": {},
   "outputs": [
    {
     "name": "stdout",
     "output_type": "stream",
     "text": [
      "The Number of Indices are:  6\n",
      "The Consumption on  01-01-2018  is :  830609.2499999999\n",
      "The Consumption on  01-02-2018  is :  872401.3700000001\n",
      "The Consumption on  01-03-2018  is :  1093021.5\n",
      "The Consumption on  01-04-2018  is :  1184403.0\n",
      "The Consumption on  01-05-2018  is :  1312053.5\n"
     ]
    }
   ],
   "source": [
    "print('The Number of Indices are: ',len(indices))\n",
    "k=ref_min.date()\n",
    "consump=[]\n",
    "lower=[]\n",
    "upper=[]\n",
    "for i in range(len(indices)-1):\n",
    "    r_min=float(values[indices[i]])\n",
    "    lower.append(r_min)\n",
    "    r_up=float(values[indices[i+1]])\n",
    "    upper.append(r_up)\n",
    "    consumption=r_up-r_min\n",
    "    consump.append(consumption)\n",
    "    print('The Consumption on ',k.strftime('%d-%m-%Y'),' is : ',consumption)\n",
    "    k = add_one_month(k)\n"
   ]
  },
  {
   "cell_type": "code",
   "execution_count": 8,
   "metadata": {},
   "outputs": [
    {
     "name": "stdout",
     "output_type": "stream",
     "text": [
      "Enter the Rate per KWH consumed for Cost Calculation: 10\n"
     ]
    }
   ],
   "source": [
    "rate=float(input('Enter the Rate per KWH consumed for Cost Calculation: '))\n"
   ]
  },
  {
   "cell_type": "code",
   "execution_count": 9,
   "metadata": {},
   "outputs": [
    {
     "name": "stdout",
     "output_type": "stream",
     "text": [
      "The Cost of Electricity for  01-01-2018  is : 8306092.499999999\n",
      "The Cost of Electricity for  01-02-2018  is : 8724013.700000001\n",
      "The Cost of Electricity for  01-03-2018  is : 10930215.0\n",
      "The Cost of Electricity for  01-04-2018  is : 11844030.0\n",
      "The Cost of Electricity for  01-05-2018  is : 13120535.0\n"
     ]
    }
   ],
   "source": [
    "k=ref_min.date()\n",
    "cost=[]\n",
    "for i in consump:\n",
    "    r=float(i)*rate\n",
    "    print('The Cost of Electricity for ',k.strftime('%d-%m-%Y'),' is :',r)\n",
    "    cost.append(r)\n",
    "    k = add_one_month(k)\n"
   ]
  },
  {
   "cell_type": "code",
   "execution_count": 10,
   "metadata": {},
   "outputs": [
    {
     "name": "stdout",
     "output_type": "stream",
     "text": [
      "\n",
      "====================Final Output====================\n",
      "\n",
      "Please Enter The Customer Name:  Siemens Kalwa\n"
     ]
    }
   ],
   "source": [
    "print('\\n====================Final Output====================\\n')\n",
    "k=ref_min.date()\n",
    "date_list=[]\n",
    "write=[]\n",
    "cust=input('Please Enter The Customer Name:  ')\n"
   ]
  },
  {
   "cell_type": "code",
   "execution_count": 11,
   "metadata": {},
   "outputs": [
    {
     "name": "stdout",
     "output_type": "stream",
     "text": [
      "--------------------------------------\n",
      "Date:\t\t 2018-01-01\n",
      "Lower Reading:\t 940770.88\n",
      "Upper Reading:\t 1771380.13\n",
      "Consumption:\t 830609.2499999999\n",
      "Cost:\t\t 8306092.499999999\n",
      "--------------------------------------\n",
      "Date:\t\t 2018-02-01\n",
      "Lower Reading:\t 1771380.13\n",
      "Upper Reading:\t 2643781.5\n",
      "Consumption:\t 872401.3700000001\n",
      "Cost:\t\t 8724013.700000001\n",
      "--------------------------------------\n",
      "Date:\t\t 2018-03-01\n",
      "Lower Reading:\t 2643781.5\n",
      "Upper Reading:\t 3736803.0\n",
      "Consumption:\t 1093021.5\n",
      "Cost:\t\t 10930215.0\n",
      "--------------------------------------\n",
      "Date:\t\t 2018-04-01\n",
      "Lower Reading:\t 3736803.0\n",
      "Upper Reading:\t 4921206.0\n",
      "Consumption:\t 1184403.0\n",
      "Cost:\t\t 11844030.0\n",
      "--------------------------------------\n",
      "Date:\t\t 2018-05-01\n",
      "Lower Reading:\t 4921206.0\n",
      "Upper Reading:\t 6233259.5\n",
      "Consumption:\t 1312053.5\n",
      "Cost:\t\t 13120535.0\n"
     ]
    }
   ],
   "source": [
    "row=['Customer Name: ',cust]\n",
    "write.append(row)\n",
    "row=['Address Line 1: ',\"3, National Hwy 9, Premnagar, \"]\n",
    "write.append(row)\n",
    "row=['Address Line 2: ',\"Ashok Nagar, Pune, Maharashtra 411016\"]\n",
    "write.append(row)\n",
    "row=['']\n",
    "write.append(row)\n",
    "row=['Electricity Bill Invoice']\n",
    "write.append(row)\n",
    "row=['From: ',ref_min.date()]\n",
    "write.append(row)\n",
    "row=['To: ',subtract_one_month(ref_max.date())+timedelta(days=1)]\n",
    "write.append(row)\n",
    "row=['']\n",
    "write.append(row)\n",
    "row=['Reading Date','Previous Reading','Present Reading','Consumption','Cost']\n",
    "write.append(row)\n",
    "for i in range(len(indices)-1):\n",
    "    row=[]\n",
    "    print('--------------------------------------')\n",
    "    print('Date:\\t\\t',k)\n",
    "    row.append(k)\n",
    "    date_list.append(k)\n",
    "    k = add_one_month(k)\n",
    "    print('Lower Reading:\\t',lower[i])\n",
    "    row.append(lower[i])\n",
    "    print('Upper Reading:\\t',upper[i])\n",
    "    row.append(upper[i])\n",
    "    print('Consumption:\\t',consump[i])\n",
    "    row.append(consump[i])\n",
    "    print('Cost:\\t\\t',cost[i])\n",
    "    row.append(cost[i])\n",
    "    write.append(row)\n"
   ]
  },
  {
   "cell_type": "code",
   "execution_count": 12,
   "metadata": {},
   "outputs": [
    {
     "data": {
      "image/png": "[encoded data removed]",
      "text/plain": [
       "<Figure size 432x288 with 1 Axes>"
      ]
     },
     "metadata": {},
     "output_type": "display_data"
    },
    {
     "data": {
      "text/plain": [
       "<Figure size 432x288 with 0 Axes>"
      ]
     },
     "metadata": {},
     "output_type": "display_data"
    }
   ],
   "source": [
    "plt.plot(date_list,consump)\n",
    "plt.show()\n",
    "plt.savefig('graph.png')\n"
   ]
  },
  {
   "cell_type": "code",
   "execution_count": 13,
   "metadata": {},
   "outputs": [
    {
     "name": "stdout",
     "output_type": "stream",
     "text": [
      "CSV file generated as OUTPUT.CSV\n"
     ]
    }
   ],
   "source": [
    "row=['Total Consumption: ', sum(consump)]\n",
    "write.append(row)\n",
    "row=['Cost Per Unit: ',rate]\n",
    "write.append(row)\n",
    "row=['Total Bill Ammount: ',sum(cost)]\n",
    "write.append(row)\n",
    "with open('output.csv', 'w') as csvFile:\n",
    "    for row in write:\n",
    "        writer = csv.writer(csvFile,lineterminator='\\n')\n",
    "        writer.writerow(row)\n",
    "csvFile.close()\n",
    "print('CSV file generated as OUTPUT.CSV')"
   ]
  },
  {
   "cell_type": "code",
   "execution_count": null,
   "metadata": {},
   "outputs": [],
   "source": []
  }
 ],
 "metadata": {
  "kernelspec": {
   "display_name": "Python 3",
   "language": "python",
   "name": "python3"
  },
  "language_info": {
   "codemirror_mode": {
    "name": "ipython",
    "version": 3
   },
   "file_extension": ".py",
   "mimetype": "text/x-python",
   "name": "python",
   "nbconvert_exporter": "python",
   "pygments_lexer": "ipython3",
   "version": "3.5.0"
  }
 },
 "nbformat": 4,
 "nbformat_minor": 2
}
